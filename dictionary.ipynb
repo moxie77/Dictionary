{
 "cells": [
  {
   "cell_type": "markdown",
   "metadata": {},
   "source": [
    "## Class-Work 5\n"
   ]
  },
  {
   "cell_type": "markdown",
   "metadata": {},
   "source": [
    "The task here is to create a dictionary using the terminal. The aim of this project is to type a particular word in the input function and then, the program will automatically return the meaning or meanings of the word. If the word does not exist, it is going to suggest to you a word that looks similar to that word and ask if that is what you meant. If you say \"Yes\", it will return the meaning of that word instead."
   ]
  },
  {
   "cell_type": "code",
   "execution_count": 3,
   "metadata": {},
   "outputs": [],
   "source": [
    "import json\n",
    "from difflib import get_close_matches"
   ]
  },
  {
   "cell_type": "code",
   "execution_count": 4,
   "metadata": {},
   "outputs": [],
   "source": [
    "#Opening the json file\n",
    "with open('data.json','r') as f:\n",
    "    json_data = json.load(f)"
   ]
  },
  {
   "cell_type": "code",
   "execution_count": 5,
   "metadata": {},
   "outputs": [
    {
     "name": "stdout",
     "output_type": "stream",
     "text": [
      "<class 'dict'>\n"
     ]
    }
   ],
   "source": [
    "#Checking the type of the file\n",
    "print(type(json_data))"
   ]
  },
  {
   "cell_type": "code",
   "execution_count": 6,
   "metadata": {},
   "outputs": [
    {
     "name": "stdout",
     "output_type": "stream",
     "text": [
      "Search for the meaning of a word: Meaning\n",
      "1 The objects or concept that a word or phrase denotes, or that which a sentence says.\n"
     ]
    }
   ],
   "source": [
    "#AN INPUT THAT WILL TAKE IN THE SEARCH-WORD\n",
    "word = input('Search for the meaning of a word: ').lower()\n",
    "\n",
    "#CHECKING IF THE WORD IS IN THE DICTIONARY\n",
    "if word in json_data:\n",
    "    meaning = json_data[word]\n",
    "    for index,meanings in enumerate(meaning,1):\n",
    "        print(index,meanings)\n",
    "        \n",
    "else:\n",
    "    print(f'{word} does not exist')\n",
    "    \n",
    "    #cheking the length of the possible suggestions\n",
    "    length = len(get_close_matches(word,json_data.keys()))\n",
    "    \n",
    "    #looping through each suggestion\n",
    "    for i in range(length):\n",
    "        close_match = get_close_matches(word,json_data.keys())[i]\n",
    "        print(f'Do you mean {close_match} ? Enter yes or no!')\n",
    "        choice = input('Enter yes or no!').lower()\n",
    "        if choice =='yes':\n",
    "            meaning = json_data[close_match]\n",
    "            for index,meanings in enumerate(meaning,1):\n",
    "                print(index,meanings)\n",
    "            break\n",
    "    else:\n",
    "        print(\"Sorry. I don't know the word you mean\")"
   ]
  },
  {
   "cell_type": "code",
   "execution_count": null,
   "metadata": {},
   "outputs": [],
   "source": []
  }
 ],
 "metadata": {
  "kernelspec": {
   "display_name": "Python 3",
   "language": "python",
   "name": "python3"
  },
  "language_info": {
   "codemirror_mode": {
    "name": "ipython",
    "version": 3
   },
   "file_extension": ".py",
   "mimetype": "text/x-python",
   "name": "python",
   "nbconvert_exporter": "python",
   "pygments_lexer": "ipython3",
   "version": "3.8.0"
  }
 },
 "nbformat": 4,
 "nbformat_minor": 4
}
